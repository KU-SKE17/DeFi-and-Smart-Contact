{
 "cells": [
  {
   "cell_type": "markdown",
   "metadata": {},
   "source": [
    "# Future Value\n",
    "\n",
    "`FV = PV(1+r)^t`"
   ]
  },
  {
   "cell_type": "code",
   "execution_count": 1,
   "metadata": {},
   "outputs": [
    {
     "data": {
      "text/plain": [
       "734.6640384000003"
      ]
     },
     "execution_count": 1,
     "metadata": {},
     "output_type": "execute_result"
    }
   ],
   "source": [
    "# 1\n",
    "PV = 500\n",
    "r = 0.08\n",
    "t = 5\n",
    "\n",
    "FV = PV*((1+r)**t)\n",
    "FV # = 734.66"
   ]
  },
  {
   "cell_type": "code",
   "execution_count": 2,
   "metadata": {},
   "outputs": [
    {
     "data": {
      "text/plain": [
       "0.05629519164543795"
      ]
     },
     "execution_count": 2,
     "metadata": {},
     "output_type": "execute_result"
    }
   ],
   "source": [
    "# 2\n",
    "PV = 700\n",
    "FV = 825\n",
    "t = 3\n",
    "\n",
    "r = ((FV / PV) ** (1 / t)) - 1\n",
    "r # 56.29 %"
   ]
  },
  {
   "cell_type": "markdown",
   "metadata": {},
   "source": [
    "# Effective vs Nominal Rates\n",
    "\n",
    "`Reff = (1+(Rnom/n))^n`"
   ]
  },
  {
   "cell_type": "code",
   "execution_count": 7,
   "metadata": {},
   "outputs": [
    {
     "data": {
      "text/plain": [
       "0.5"
      ]
     },
     "execution_count": 7,
     "metadata": {},
     "output_type": "execute_result"
    }
   ],
   "source": [
    "# Nominal rate\n",
    "# 6% per year = 0.5% per month\n",
    "6/12"
   ]
  },
  {
   "cell_type": "code",
   "execution_count": 6,
   "metadata": {},
   "outputs": [
    {
     "data": {
      "text/plain": [
       "1.0616778118644983"
      ]
     },
     "execution_count": 6,
     "metadata": {},
     "output_type": "execute_result"
    }
   ],
   "source": [
    "# Effective rate\n",
    "# 0.5% per month = 6.17% per year\n",
    "((1+0.5/100))**12"
   ]
  },
  {
   "cell_type": "markdown",
   "metadata": {},
   "source": [
    "# Present Value\n",
    "\n",
    "`PV = FV/(1+r)^t`"
   ]
  },
  {
   "cell_type": "code",
   "execution_count": 9,
   "metadata": {},
   "outputs": [
    {
     "data": {
      "text/plain": [
       "143.83724368288654"
      ]
     },
     "execution_count": 9,
     "metadata": {},
     "output_type": "execute_result"
    }
   ],
   "source": [
    "FV = 175\n",
    "r = 0.04\n",
    "t = 5\n",
    "\n",
    "PV = FV/(1+r)**t\n",
    "PV # 143.8"
   ]
  },
  {
   "cell_type": "markdown",
   "metadata": {},
   "source": [
    "# DCF: Simple Bond"
   ]
  },
  {
   "cell_type": "code",
   "execution_count": 38,
   "metadata": {},
   "outputs": [
    {
     "data": {
      "text/plain": [
       "3164.007897437903"
      ]
     },
     "execution_count": 38,
     "metadata": {},
     "output_type": "execute_result"
    }
   ],
   "source": [
    "# simple bond of 3,000 with annual payment of 250 for 5 years, discount rate 7%\n",
    "bond = 3000\n",
    "payment = 250\n",
    "r = 0.07\n",
    "\n",
    "# from PV = FV/(1+r)^t\n",
    "year1 = payment / ((1 + r)**(1))  # 233.6\n",
    "year2 = payment / ((1 + r)**(2))  # 218.4\n",
    "year3 = payment / ((1 + r)**(3))  # 204.1\n",
    "year4 = payment / ((1 + r)**(4))  # 190.7\n",
    "year5 = (bond + payment) / ((1 + r)**(5))  # 2,317.2\n",
    "\n",
    "bond_worth = year1 + year2 + year3 + year4 + year5\n",
    "bond_worth  # 3,164"
   ]
  },
  {
   "cell_type": "markdown",
   "metadata": {},
   "source": [
    "# DCF: Practical Example"
   ]
  },
  {
   "cell_type": "code",
   "execution_count": 44,
   "metadata": {},
   "outputs": [],
   "source": [
    "# A water well in the desert\n",
    "water = float('inf')\n",
    "produce = 1     # gallon/day\n",
    "net = 1.50      # $/day (cash flow)\n",
    "r = 0.15        # discount rate\n",
    "\n",
    "# TODO: How much is it worth to sell or acquire?"
   ]
  },
  {
   "cell_type": "code",
   "execution_count": 58,
   "metadata": {},
   "outputs": [
    {
     "data": {
      "text/plain": [
       "(9.999999999999996, 1.208029028476199e-22)"
      ]
     },
     "execution_count": 58,
     "metadata": {},
     "output_type": "execute_result"
    }
   ],
   "source": [
    "# my calculate -> wrong นี้มันโง่\n",
    "def get_PV(FV, r, t):\n",
    "    return FV / ((1 + r)**(t))\n",
    "\n",
    "sum = 0\n",
    "for i in range(1, 365):\n",
    "    PV = get_PV(net, r, i)\n",
    "    sum += PV\n",
    "    # print(sum, PV)\n",
    "\n",
    "sum, PV"
   ]
  },
  {
   "cell_type": "code",
   "execution_count": 59,
   "metadata": {},
   "outputs": [
    {
     "data": {
      "text/plain": [
       "3383.4213575498297"
      ]
     },
     "execution_count": 59,
     "metadata": {},
     "output_type": "execute_result"
    }
   ],
   "source": [
    "# the correct answer (excell)\n",
    "t = 365  # days\n",
    "eff_r = (1 + r / t)**(t) - 1  # 0.162\n",
    "\n",
    "FV = net * t  # 547.5\n",
    "# PV = FV / ((1 + r)**t)\n",
    "year1 = FV / ((1 + eff_r)**1)  # 471.25\n",
    "year2 = FV / ((1 + eff_r)**2)  # 405.62\n",
    "# ...\n",
    "\n",
    "# note\n",
    "sum = 0\n",
    "for i in range(1, 61):\n",
    "    PV = get_PV(FV, eff_r, i)\n",
    "    sum += PV\n",
    "    # print(PV)\n",
    "\n",
    "sum # 3383.42 -> A water well worth"
   ]
  },
  {
   "cell_type": "markdown",
   "metadata": {},
   "source": [
    "# P/E ratios"
   ]
  },
  {
   "cell_type": "code",
   "execution_count": 70,
   "metadata": {},
   "outputs": [
    {
     "data": {
      "text/plain": [
       "170.0"
      ]
     },
     "execution_count": 70,
     "metadata": {},
     "output_type": "execute_result"
    }
   ],
   "source": [
    "# Home Depot\n",
    "E = 6.8 # $ per share\n",
    "P_E = 25\n",
    "P_Home_Depot = P_E*6.8\n",
    "P_Home_Depot # $170 per share"
   ]
  },
  {
   "cell_type": "code",
   "execution_count": 71,
   "metadata": {},
   "outputs": [
    {
     "data": {
      "text/plain": [
       "61.5"
      ]
     },
     "execution_count": 71,
     "metadata": {},
     "output_type": "execute_result"
    }
   ],
   "source": [
    "# Lowes\n",
    "E = 2.46 # $ per share\n",
    "P_Lowes = P_E*2.46 \n",
    "P_Lowes # $61.5 per share"
   ]
  }
 ],
 "metadata": {
  "interpreter": {
   "hash": "082e9a3bcad0a290d0001e938aa60b99250c6c2ef33a923c00b70f9826caf4b7"
  },
  "kernelspec": {
   "display_name": "Python 3.8.3 64-bit",
   "language": "python",
   "name": "python3"
  },
  "language_info": {
   "codemirror_mode": {
    "name": "ipython",
    "version": 3
   },
   "file_extension": ".py",
   "mimetype": "text/x-python",
   "name": "python",
   "nbconvert_exporter": "python",
   "pygments_lexer": "ipython3",
   "version": "3.8.3"
  },
  "orig_nbformat": 4
 },
 "nbformat": 4,
 "nbformat_minor": 2
}
