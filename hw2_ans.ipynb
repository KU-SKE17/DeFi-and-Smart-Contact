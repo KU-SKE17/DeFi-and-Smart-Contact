{
 "cells": [
  {
   "cell_type": "markdown",
   "metadata": {},
   "source": [
    "# Homework2\n"
   ]
  },
  {
   "cell_type": "markdown",
   "metadata": {},
   "source": [
    "##### 1. If you invest \\$1,000 in a bank paying an annual nominal interest rate of 10% compounded annually, how long would it take to double the initial investment?"
   ]
  },
  {
   "cell_type": "code",
   "execution_count": 17,
   "metadata": {},
   "outputs": [
    {
     "name": "stdout",
     "output_type": "stream",
     "text": [
      "year: 1  balance: 1100.0  interest: 100.0\n",
      "year: 2  balance: 1210.0  interest: 110.0\n",
      "year: 3  balance: 1331.0  interest: 121.0\n",
      "year: 4  balance: 1464.1  interest: 133.1\n",
      "year: 5  balance: 1610.51  interest: 146.41\n",
      "year: 6  balance: 1771.561  interest: 161.05100000000002\n",
      "year: 7  balance: 1948.7170999999998  interest: 177.1561\n",
      "year: 8  balance: 2143.5888099999997  interest: 194.87171\n",
      "year: 9  balance: 2357.947691  interest: 214.358881\n",
      "year: 10  balance: 2593.7424601  interest: 235.7947691\n"
     ]
    }
   ],
   "source": [
    "interest_rate = 0.1  # per year\n",
    "balance = 1000\n",
    "\n",
    "for i in range(1, 11):\n",
    "    interest = balance * interest_rate\n",
    "    balance += interest\n",
    "    print(\"year:\", i, \" balance:\", balance, \" interest:\", interest)\n",
    "\n",
    "# It take 7 years to double the initial investment."
   ]
  },
  {
   "cell_type": "markdown",
   "metadata": {},
   "source": [
    "##### 2. Suppose you put \\$1,000 into a bank account with an annual nominal interest rate of 5%. What will be the account balance at the end of 10 years if the interest is compounded monthly at a rate of 1/12 the nominal rate."
   ]
  },
  {
   "cell_type": "code",
   "execution_count": 18,
   "metadata": {},
   "outputs": [
    {
     "data": {
      "text/plain": [
       "1647.0094976902828"
      ]
     },
     "execution_count": 18,
     "metadata": {},
     "output_type": "execute_result"
    }
   ],
   "source": [
    "balance = 1000\n",
    "interest_rate = 0.05 / 12  # per month\n",
    "t = 10 * 12\n",
    "\n",
    "for i in range(1, t + 1):\n",
    "    interest = balance * interest_rate\n",
    "    balance += interest\n",
    "    # print(\"month:\", i, \" balance:\", balance, \" interest:\", interest)\n",
    "\n",
    "balance\n",
    "# Balance at the end of 10 years is \\$1647."
   ]
  },
  {
   "cell_type": "markdown",
   "metadata": {},
   "source": [
    "##### 3. A bond with a face value of \\$10,000 that makes annual payments of \\$200 for 5 years at a discount rate of 3% is being offered for \\$9,000 today. Is this a profitable bond?\n"
   ]
  },
  {
   "cell_type": "code",
   "execution_count": 19,
   "metadata": {},
   "outputs": [
    {
     "name": "stdout",
     "output_type": "stream",
     "text": [
      "today (DCF): 915.9414374389067 + 9000 =  9915.941437438907\n",
      "bond worth (DCF): 7581.402183341224\n"
     ]
    }
   ],
   "source": [
    "import math\n",
    "\n",
    "face_value = 10000\n",
    "cash_flow = 200\n",
    "discount_rate = 0.03\n",
    "t = 5\n",
    "bond_t = math.floor(10000 / 200)\n",
    "\n",
    "DCF = 0\n",
    "for i in range(1, t + 1):\n",
    "    PV = cash_flow / ((1 + discount_rate)**i)\n",
    "    DCF += PV\n",
    "    # print(\"year:\", i, \" DCF:\", DCF, \" PV:\", PV)\n",
    "\n",
    "print(\"today (DCF):\", DCF, \"+ 9000 = \", DCF + 9000)\n",
    "\n",
    "for i in range(t + 1, bond_t):\n",
    "    PV = cash_flow / ((1 + discount_rate)**i)\n",
    "    DCF += PV\n",
    "    # print(\"year:\", i, \" DCF:\", DCF, \" PV:\", PV)\n",
    "\n",
    "# last year\n",
    "PV = cash_flow + face_value / ((1 + discount_rate)**bond_t)\n",
    "DCF += PV\n",
    "# print(\"year: 50\", \" DCF:\", DCF, \" PV:\", PV)\n",
    "\n",
    "print(\"bond worth (DCF):\", DCF)\n",
    "\n",
    "# This bond is not a profitable bond."
   ]
  },
  {
   "cell_type": "markdown",
   "metadata": {},
   "source": [
    "##### 4. Company A is earning \\$2.46 per share and currently trading at \\$10 per share. Comparable Company B is trading at \\$24 per share and a P/E ratio of 4.6. Using a P/E ratio valuation, would you buy shares in Company A?\n"
   ]
  },
  {
   "cell_type": "code",
   "execution_count": 20,
   "metadata": {},
   "outputs": [
    {
     "data": {
      "text/plain": [
       "11.315999999999999"
      ]
     },
     "execution_count": 20,
     "metadata": {},
     "output_type": "execute_result"
    }
   ],
   "source": [
    "earning_A = 2.46\n",
    "trading_A = 10\n",
    "trading_B = 24\n",
    "P_E = 4.6\n",
    "\n",
    "Comp_value_A = earning_A * P_E\n",
    "Comp_value_A  # 11.32 per share > trading_A (10 per share)\n",
    "# I would like to buy shares in Company A"
   ]
  },
  {
   "cell_type": "markdown",
   "metadata": {},
   "source": [
    "##### 5. Project A requires an initial outlay of \\$500 and provides an annual income of \\$600 for 3 years. Project B requires an initial outlay of \\$400 and yields an annual income of \\$700 for 3 years. Which project would you select based on NPVs assuming the same 7% discount rate for both? Which one would you pick based on their payback periods?\n"
   ]
  },
  {
   "cell_type": "code",
   "execution_count": 21,
   "metadata": {},
   "outputs": [
    {
     "name": "stdout",
     "output_type": "stream",
     "text": [
      "year: 1 Project A (NPV): -39.25233644859816 Project B (NPV): -45.794392523364536\n",
      "year: 2 Project A (NPV): 484.81090051532885 Project B (NPV): 565.6127172678836\n",
      "year: 3 Project A (NPV): 974.58962664984 Project B (NPV): 1137.0212310914799\n"
     ]
    }
   ],
   "source": [
    "t = 3\n",
    "\n",
    "initial_outlay_A = 500\n",
    "income_A = 600\n",
    "\n",
    "initial_outlay_B = 400\n",
    "income_B = 700\n",
    "\n",
    "discount_rate = 0.07\n",
    "NPV_A = -income_A\n",
    "NPV_B = -income_B\n",
    "\n",
    "for i in range(1, t + 1):\n",
    "    PV_A = income_A / (1 + discount_rate)**i\n",
    "    NPV_A += PV_A\n",
    "\n",
    "    PV_B = income_B / (1 + discount_rate)**i\n",
    "    NPV_B += PV_B\n",
    "\n",
    "    print(\"year:\", i, \"Project A (NPV):\", NPV_A, \"Project B (NPV):\", NPV_B)\n",
    "\n",
    "# I would pick Project B."
   ]
  },
  {
   "cell_type": "markdown",
   "metadata": {},
   "source": [
    "##### 6. Assume an investment costing \\$24,869 will earn \\$10,000 a year for ten years. What is the IRR of this project?\n"
   ]
  },
  {
   "cell_type": "code",
   "execution_count": 22,
   "metadata": {},
   "outputs": [],
   "source": [
    "investment = 24869\n",
    "cash_flow = 10000  # per year\n",
    "t = 10\n",
    "\n",
    "# According to the link: https://docs.google.com/spreadsheets/d/1h7pEz9dkPePm9duSmowajSzFLq6OyB4_0LDfmpHEJKw/edit?usp=sharing\n",
    "# IRR = 39%"
   ]
  },
  {
   "cell_type": "markdown",
   "metadata": {},
   "source": [
    "##### 7. A company has a net operating profit of \\$200 million, no depreciation, an asset sale of \\$75 million, a capital expenditure of \\$30 million, and no changes in net working capital. Calculate this company’s free cash flow for the year.\n"
   ]
  },
  {
   "cell_type": "code",
   "execution_count": 23,
   "metadata": {},
   "outputs": [
    {
     "data": {
      "text/plain": [
       "245"
      ]
     },
     "execution_count": 23,
     "metadata": {},
     "output_type": "execute_result"
    }
   ],
   "source": [
    "net_profit = 200  # million usd\n",
    "asset = 75  # million usd\n",
    "expenditure = 30  # million usd\n",
    "\n",
    "FCF = net_profit + asset - expenditure\n",
    "FCF  # = 245 million usd\n"
   ]
  },
  {
   "cell_type": "markdown",
   "metadata": {},
   "source": [
    "##### 8. A project requires an initial investment of \\$2.8 million. This initial investment is to be depreciated straight-line to 0 in 4 years. Suppose the investment described above generates an annual sales of \\$2,360,000, with annual costs of \\$520,000 and assuming a tax rate of 35%. What is the annual operating cash flow from this project?\n"
   ]
  },
  {
   "cell_type": "code",
   "execution_count": 24,
   "metadata": {},
   "outputs": [
    {
     "data": {
      "text/plain": [
       "1896000.0"
      ]
     },
     "execution_count": 24,
     "metadata": {},
     "output_type": "execute_result"
    }
   ],
   "source": [
    "investment = 2.8E6  # usd\n",
    "depreciation = investment / 4  # to 0 in 4 year\n",
    "revenue = 2360000  # per year\n",
    "total_cost = 520000  # per year\n",
    "tax_rate = 0.35\n",
    "\n",
    "EBIT = revenue - total_cost\n",
    "tax = tax_rate * EBIT\n",
    "NOPAT = EBIT - tax\n",
    "\n",
    "operating_cash_flow = NOPAT + depreciation\n",
    "operating_cash_flow  # \\$1,896,000"
   ]
  }
 ],
 "metadata": {
  "interpreter": {
   "hash": "082e9a3bcad0a290d0001e938aa60b99250c6c2ef33a923c00b70f9826caf4b7"
  },
  "kernelspec": {
   "display_name": "Python 3.8.3 64-bit",
   "language": "python",
   "name": "python3"
  },
  "language_info": {
   "codemirror_mode": {
    "name": "ipython",
    "version": 3
   },
   "file_extension": ".py",
   "mimetype": "text/x-python",
   "name": "python",
   "nbconvert_exporter": "python",
   "pygments_lexer": "ipython3",
   "version": "3.8.3"
  },
  "orig_nbformat": 4
 },
 "nbformat": 4,
 "nbformat_minor": 2
}
