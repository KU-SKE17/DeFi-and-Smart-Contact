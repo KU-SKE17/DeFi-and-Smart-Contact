{
 "cells": [
  {
   "cell_type": "markdown",
   "metadata": {},
   "source": [
    "# Homework 1\n",
    "\n",
    "choose the best option:\n",
    "1. $1000 now\n",
    "2. $2000 at the end of next 3 years\n",
    "3. $3000 after 10 years\n",
    "\n",
    "- Case1: discount rate = `10%`\n",
    "- Case2: discount rate = `5%`"
   ]
  },
  {
   "cell_type": "markdown",
   "metadata": {},
   "source": [
    "### Case 1 (r = 0.1)"
   ]
  },
  {
   "cell_type": "code",
   "execution_count": 26,
   "metadata": {},
   "outputs": [],
   "source": [
    "r = 0.1"
   ]
  },
  {
   "cell_type": "code",
   "execution_count": 27,
   "metadata": {},
   "outputs": [
    {
     "data": {
      "text/plain": [
       "1502.629601803155"
      ]
     },
     "execution_count": 27,
     "metadata": {},
     "output_type": "execute_result"
    }
   ],
   "source": [
    "# PV = FV/((1+r)**t)\n",
    "FV = 2000\n",
    "t = 3\n",
    "\n",
    "PV = FV/(1+r)**t\n",
    "PV"
   ]
  },
  {
   "cell_type": "code",
   "execution_count": 28,
   "metadata": {},
   "outputs": [
    {
     "data": {
      "text/plain": [
       "1156.6298682885943"
      ]
     },
     "execution_count": 28,
     "metadata": {},
     "output_type": "execute_result"
    }
   ],
   "source": [
    "# PV = FV/((1+r)**t)\n",
    "FV = 3000\n",
    "t = 10\n",
    "\n",
    "PV = FV/(1+r)**t\n",
    "PV"
   ]
  },
  {
   "cell_type": "markdown",
   "metadata": {},
   "source": [
    "Since\n",
    "\n",
    "- Choice 1: PV = 1000\n",
    "- Choice 2: PV = `1502.63`\n",
    "- Choice 3: PV = 1156.63\n",
    "\n",
    "So `Choice 2` is worth the most "
   ]
  },
  {
   "cell_type": "markdown",
   "metadata": {},
   "source": [
    "### Case 2 (r = 0.05)"
   ]
  },
  {
   "cell_type": "code",
   "execution_count": 29,
   "metadata": {},
   "outputs": [],
   "source": [
    "r = 0.05"
   ]
  },
  {
   "cell_type": "code",
   "execution_count": 30,
   "metadata": {},
   "outputs": [
    {
     "data": {
      "text/plain": [
       "1727.675197062952"
      ]
     },
     "execution_count": 30,
     "metadata": {},
     "output_type": "execute_result"
    }
   ],
   "source": [
    "# PV = FV/((1+r)**t)\n",
    "FV = 2000\n",
    "t = 3\n",
    "\n",
    "PV = FV/(1+r)**t\n",
    "PV"
   ]
  },
  {
   "cell_type": "code",
   "execution_count": 31,
   "metadata": {},
   "outputs": [
    {
     "data": {
      "text/plain": [
       "1841.7397606222773"
      ]
     },
     "execution_count": 31,
     "metadata": {},
     "output_type": "execute_result"
    }
   ],
   "source": [
    "# PV = FV/((1+r)**t)\n",
    "FV = 3000\n",
    "t = 10\n",
    "\n",
    "PV = FV/(1+r)**t\n",
    "PV"
   ]
  },
  {
   "cell_type": "markdown",
   "metadata": {},
   "source": [
    "Since\n",
    "\n",
    "- Choice 1: PV = 1000\n",
    "- Choice 2: PV = 1727.68\n",
    "- Choice 3: PV = `1841.74`\n",
    "\n",
    "So `Choice 3` is worth the most "
   ]
  }
 ],
 "metadata": {
  "interpreter": {
   "hash": "082e9a3bcad0a290d0001e938aa60b99250c6c2ef33a923c00b70f9826caf4b7"
  },
  "kernelspec": {
   "display_name": "Python 3.8.3 64-bit",
   "language": "python",
   "name": "python3"
  },
  "language_info": {
   "codemirror_mode": {
    "name": "ipython",
    "version": 3
   },
   "file_extension": ".py",
   "mimetype": "text/x-python",
   "name": "python",
   "nbconvert_exporter": "python",
   "pygments_lexer": "ipython3",
   "version": "3.8.3"
  },
  "orig_nbformat": 4
 },
 "nbformat": 4,
 "nbformat_minor": 2
}
