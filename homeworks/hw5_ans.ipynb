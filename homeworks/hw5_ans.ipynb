{
 "cells": [
  {
   "cell_type": "markdown",
   "metadata": {},
   "source": [
    "# Homework 5\n",
    "\n",
    "##### 1. Why is order book model inappropriate for a decentralized blockchain environment?\n",
    "\n",
    "Because decentralized blockchain:\n",
    "\n",
    "- needs gas fee for every transition (deposit, withdraw, trade create/cancel, etc.)\n",
    "- has slow executing time (slow matching)\n",
    "- will need mediating server to do the OBM (not fully decentralized)\n",
    "\n",
    "##### 2. Who are the market makers in centralized exchanges and what do they do?\n",
    "\n",
    "Market maker is a firm or individual who actively quotes two-sided markets in a particular security.\n",
    "They provide liquidity, depth to markets, bids and offers, and then profit from the difference in the bid-ask spread.\n",
    "\n",
    "##### 3. Who are the market makers in decentralized exchanges and what do they do?\n",
    "\n",
    "Automated market maker (AMM) is a protocol uses to automatically match asset quantities depending on the liquidity of the pool.\n",
    "\n",
    "##### 4. What is a slippage in an AMM DEX?\n",
    "\n",
    "Slippage is the amount of different between actual trading price (expected) and the price you trade.\n",
    "\n",
    "##### 5. Why do we need Curve Finance?\n",
    "\n",
    "To avoid volatility and have more stability when the liquidity of the pool changed.\n",
    "\n",
    "##### 6. What is the primary job of a DEX aggregator?\n",
    "\n",
    "DEX aggregator is to provide the best trading price to swap from one coin to another.\n"
   ]
  },
  {
   "cell_type": "markdown",
   "metadata": {},
   "source": [
    "##### Alice and Bob are trading token \"A\" on Uniswap, which is a constant product AMM DEX. We have an A-USDT liquidity pool on Uniswap (i.e. a pool with two assets). The pool currently has 10,000 A token and 20,000 USDT. In the following assume that there is no swap fee nor any gas fees for the transactions."
   ]
  },
  {
   "cell_type": "code",
   "execution_count": 1,
   "metadata": {},
   "outputs": [],
   "source": [
    "pool_token = 10000.0\n",
    "pool_balance = 20000.0\n",
    "\n",
    "Alice_token = 0\n",
    "Alice_balance = 0.0\n",
    "\n",
    "Bob_token = 0\n",
    "Bob_balance = 0.0"
   ]
  },
  {
   "cell_type": "markdown",
   "metadata": {},
   "source": [
    "##### 7. What is the current price of A in USDT?"
   ]
  },
  {
   "cell_type": "code",
   "execution_count": 2,
   "metadata": {},
   "outputs": [
    {
     "name": "stdout",
     "output_type": "stream",
     "text": [
      "The current price of A token is 2.0 USDT per token.\n"
     ]
    }
   ],
   "source": [
    "def cal_token_price(pool_balance, pool_token, pool_balance_unit=\"USDT\", pool_token_unit=\"A\"):\n",
    "    k = pool_balance * pool_token\n",
    "    token_price = round(pool_balance - (k / (pool_token + 1)), 2)\n",
    "    print(f\"The current price of {pool_token_unit} token is {token_price} {pool_balance_unit} per token.\")\n",
    "    return token_price\n",
    "\n",
    "\n",
    "token_price = cal_token_price(pool_balance, pool_token)"
   ]
  },
  {
   "cell_type": "markdown",
   "metadata": {},
   "source": [
    "#### Transaction 1: Alice buys 2,000 token A from the pool."
   ]
  },
  {
   "cell_type": "code",
   "execution_count": 3,
   "metadata": {},
   "outputs": [],
   "source": [
    "n1 = 2000"
   ]
  },
  {
   "cell_type": "markdown",
   "metadata": {},
   "source": [
    "##### 8. How much USDT should Alice spend to buy token A?"
   ]
  },
  {
   "cell_type": "code",
   "execution_count": 4,
   "metadata": {},
   "outputs": [
    {
     "name": "stdout",
     "output_type": "stream",
     "text": [
      "She will needs 4000.0 USDT to purchase 2000 tokens.\n"
     ]
    }
   ],
   "source": [
    "payment1 = n1 * token_price\n",
    "print(f\"She will needs {payment1} USDT to purchase {n1} tokens.\")"
   ]
  },
  {
   "cell_type": "markdown",
   "metadata": {},
   "source": [
    "##### 9. What is the market price of token A after Transaction 1? (in USDT)"
   ]
  },
  {
   "cell_type": "code",
   "execution_count": 5,
   "metadata": {},
   "outputs": [
    {
     "name": "stdout",
     "output_type": "stream",
     "text": [
      "The current price of A token is 3.0 USDT per token.\n"
     ]
    }
   ],
   "source": [
    "# after Transaction 1\n",
    "Alice_balance -= payment1\n",
    "pool_balance += payment1\n",
    "\n",
    "Alice_token += n1\n",
    "pool_token -= n1\n",
    "\n",
    "token_price = cal_token_price(pool_balance, pool_token)"
   ]
  },
  {
   "cell_type": "markdown",
   "metadata": {},
   "source": [
    "#### Transaction 2:After Transaction 1 executed successfully on Ethereum, Bob buys 3,000 token A from the pool."
   ]
  },
  {
   "cell_type": "code",
   "execution_count": 6,
   "metadata": {},
   "outputs": [],
   "source": [
    "n2 = 3000"
   ]
  },
  {
   "cell_type": "markdown",
   "metadata": {},
   "source": [
    "##### 10. How much USDT should Bob spend to buy token A?"
   ]
  },
  {
   "cell_type": "code",
   "execution_count": 7,
   "metadata": {},
   "outputs": [
    {
     "name": "stdout",
     "output_type": "stream",
     "text": [
      "He will needs 9000.0 USDT to purchase 3000 tokens.\n"
     ]
    }
   ],
   "source": [
    "payment2 = n2 * token_price\n",
    "print(f\"He will needs {payment2} USDT to purchase {n2} tokens.\")"
   ]
  },
  {
   "cell_type": "markdown",
   "metadata": {},
   "source": [
    "##### 11. What is the market price of token A after Transaction 2 completed?"
   ]
  },
  {
   "cell_type": "code",
   "execution_count": 8,
   "metadata": {},
   "outputs": [
    {
     "name": "stdout",
     "output_type": "stream",
     "text": [
      "The current price of A token is 6.6 USDT per token.\n"
     ]
    }
   ],
   "source": [
    "# after Transaction 2\n",
    "Bob_balance -= payment2\n",
    "pool_balance += payment2\n",
    "\n",
    "Bob_token += n2\n",
    "pool_token -= n2\n",
    "\n",
    "token_price = cal_token_price(pool_balance, pool_token)"
   ]
  },
  {
   "cell_type": "markdown",
   "metadata": {},
   "source": [
    "##### Transaction 3: After Transaction 2 executed successfully on Ethereum, Alice sells all her 2,000 token A from the pool."
   ]
  },
  {
   "cell_type": "code",
   "execution_count": 9,
   "metadata": {},
   "outputs": [],
   "source": [
    "n3 = 2000"
   ]
  },
  {
   "cell_type": "markdown",
   "metadata": {},
   "source": [
    "##### 13. What is the total profit of Alice made from Transaction 1 and Transaction 3? (in USDT)"
   ]
  },
  {
   "cell_type": "code",
   "execution_count": 10,
   "metadata": {},
   "outputs": [
    {
     "name": "stdout",
     "output_type": "stream",
     "text": [
      "She will get 13200.0 USDT from selling 2000 tokens.\n",
      "Her total profit from this transaction is 9200.0 USDT.\n"
     ]
    }
   ],
   "source": [
    "selling_price = n3 * token_price\n",
    "print(f\"She will get {selling_price} USDT from selling {n3} tokens.\")\n",
    "\n",
    "Alice_token_price = (-Alice_balance)/Alice_token\n",
    "Alice_token_price_of_2000 = Alice_token_price * n3\n",
    "\n",
    "Alice_profit =  selling_price - Alice_token_price_of_2000\n",
    "print(f\"Her total profit from this transaction is {Alice_profit} USDT.\")"
   ]
  },
  {
   "cell_type": "markdown",
   "metadata": {},
   "source": [
    "##### 14. What is the market price of token A after Transaction 3 completed?"
   ]
  },
  {
   "cell_type": "code",
   "execution_count": 11,
   "metadata": {},
   "outputs": [
    {
     "name": "stdout",
     "output_type": "stream",
     "text": [
      "The current price of A token is 2.83 USDT per token.\n"
     ]
    }
   ],
   "source": [
    "# after Transaction 3\n",
    "Alice_balance += selling_price\n",
    "pool_balance -= selling_price\n",
    "\n",
    "Alice_token -= n3\n",
    "pool_token += n3\n",
    "\n",
    "token_price = cal_token_price(pool_balance, pool_token)"
   ]
  },
  {
   "cell_type": "markdown",
   "metadata": {},
   "source": [
    "##### Suppose we had a Uniswap liquidity pool in January 2021, the pool had 1,000 ETH and 1,000,000 DAI after Alice joined the pool. Alice owned 2% of the total liquidity with 20 ETH paired with some DAI."
   ]
  },
  {
   "cell_type": "code",
   "execution_count": 12,
   "metadata": {},
   "outputs": [
    {
     "name": "stdout",
     "output_type": "stream",
     "text": [
      "The current price of ETH token is 999.0 DAI per token.\n"
     ]
    }
   ],
   "source": [
    "pool_ETH = 1000\n",
    "pool_DAI = 1000000\n",
    "\n",
    "ETH_price = cal_token_price(pool_DAI, pool_ETH, \"DAI\", \"ETH\")\n",
    "pool_asset = (pool_DAI + (pool_ETH * ETH_price))\n",
    "\n",
    "Alice_asset = (2/100) * pool_asset\n",
    "Alice_ETH = 20"
   ]
  },
  {
   "cell_type": "markdown",
   "metadata": {},
   "source": [
    "##### 15. How much DAI should be paired with the 20 ETH for Alice to join the pool?"
   ]
  },
  {
   "cell_type": "code",
   "execution_count": 13,
   "metadata": {},
   "outputs": [
    {
     "name": "stdout",
     "output_type": "stream",
     "text": [
      "So she will need 20000.0 DAI paired with 20 ETH to owned 2% of the pool.\n"
     ]
    }
   ],
   "source": [
    "Alice_DAI = Alice_asset - (Alice_ETH * ETH_price)\n",
    "\n",
    "print(f\"So she will need {Alice_DAI} DAI paired with {Alice_ETH} ETH to owned 2% of the pool.\")"
   ]
  },
  {
   "cell_type": "markdown",
   "metadata": {},
   "source": [
    "##### 16. What was the market price of ETH when Alice joined the pool? (in DAI) "
   ]
  },
  {
   "cell_type": "code",
   "execution_count": 14,
   "metadata": {},
   "outputs": [
    {
     "name": "stdout",
     "output_type": "stream",
     "text": [
      "The current price of ETH token is 999.0 DAI per token.\n"
     ]
    }
   ],
   "source": [
    "ETH_price = cal_token_price(pool_DAI, pool_ETH, \"DAI\", \"ETH\")"
   ]
  },
  {
   "cell_type": "markdown",
   "metadata": {},
   "source": [
    "##### In May 2021, Alice removed all her liquidity in the pool when the market price of ETH was 4000 DAI."
   ]
  },
  {
   "cell_type": "code",
   "execution_count": 15,
   "metadata": {},
   "outputs": [],
   "source": [
    "new_ETH_price = 4000\n",
    "\n",
    "pool_ETH = pool_asset/new_ETH_price\n",
    "pool_DAI = new_ETH_price * pool_ETH"
   ]
  },
  {
   "cell_type": "markdown",
   "metadata": {},
   "source": [
    "##### 17. How much ETH and DAI did she receive after she withdrew her liquidity?"
   ]
  },
  {
   "cell_type": "code",
   "execution_count": 16,
   "metadata": {},
   "outputs": [
    {
     "name": "stdout",
     "output_type": "stream",
     "text": [
      "She will receive 10 ETH and 39980 DAI.\n"
     ]
    }
   ],
   "source": [
    "received_ETH = (2/100) * pool_ETH\n",
    "received_DAI = (2/100) * pool_DAI\n",
    "\n",
    "print(f\"She will receive {received_ETH:.0f} ETH and {received_DAI:.0f} DAI.\")"
   ]
  },
  {
   "cell_type": "markdown",
   "metadata": {},
   "source": [
    "##### 18. What is the impermanent loss of Alice? (in DAI)"
   ]
  },
  {
   "cell_type": "code",
   "execution_count": 17,
   "metadata": {},
   "outputs": [
    {
     "name": "stdout",
     "output_type": "stream",
     "text": [
      "The impermanent loss is 20040.0 DAI.\n"
     ]
    }
   ],
   "source": [
    "# she didn't come in the pool    -> 20 ETH, 20000 DAI\n",
    "case1_worth = (Alice_ETH * new_ETH_price) + Alice_DAI\n",
    "\n",
    "# she came in the pool           -> 10 ETH, 39980 DAI\n",
    "case2_worth = (received_ETH * new_ETH_price) + received_DAI\n",
    "\n",
    "impermanent_loss = case1_worth - case2_worth\n",
    "print(f\"The impermanent loss is {impermanent_loss} DAI.\")"
   ]
  },
  {
   "cell_type": "markdown",
   "metadata": {},
   "source": [
    "##### 19. What is the percentage of impermanent loss (i.e., percentage change in total equity value) for Alice?"
   ]
  },
  {
   "cell_type": "code",
   "execution_count": 18,
   "metadata": {},
   "outputs": [
    {
     "name": "stdout",
     "output_type": "stream",
     "text": [
      "The impermanent loss is 20.04 %.\n"
     ]
    }
   ],
   "source": [
    "impermanent_loss = 100 * impermanent_loss/case1_worth\n",
    "print(f\"The impermanent loss is {impermanent_loss} %.\")"
   ]
  },
  {
   "cell_type": "markdown",
   "metadata": {},
   "source": [
    "##### 20. Now we consider the general case of impermanent loss. If the price of ETH pumps to N times of the original price. Prove that the percentage of impermanent loss (i.e., percentage change in total equity value) for the liquidity providers is:\n",
    "    1-2*sqrt(N)/(N+1)"
   ]
  },
  {
   "cell_type": "markdown",
   "metadata": {},
   "source": [
    "ref: https://chainbulletin.com/impermanent-loss-explained-with-examples-math/"
   ]
  },
  {
   "cell_type": "code",
   "execution_count": 19,
   "metadata": {},
   "outputs": [
    {
     "data": {
      "text/plain": [
       "20.024014807964708"
      ]
     },
     "execution_count": 19,
     "metadata": {},
     "output_type": "execute_result"
    }
   ],
   "source": [
    "import math\n",
    "\n",
    "# in the question above\n",
    "N = ETH_price/new_ETH_price\n",
    "\n",
    "# for different price changes\n",
    "impermanent_loss = (1 - (2 * math.sqrt(N)/(N+1))) * 100\n",
    "impermanent_loss"
   ]
  }
 ],
 "metadata": {
  "interpreter": {
   "hash": "082e9a3bcad0a290d0001e938aa60b99250c6c2ef33a923c00b70f9826caf4b7"
  },
  "kernelspec": {
   "display_name": "Python 3.8.3 64-bit",
   "language": "python",
   "name": "python3"
  },
  "language_info": {
   "codemirror_mode": {
    "name": "ipython",
    "version": 3
   },
   "file_extension": ".py",
   "mimetype": "text/x-python",
   "name": "python",
   "nbconvert_exporter": "python",
   "pygments_lexer": "ipython3",
   "version": "3.8.3"
  },
  "orig_nbformat": 4
 },
 "nbformat": 4,
 "nbformat_minor": 2
}
