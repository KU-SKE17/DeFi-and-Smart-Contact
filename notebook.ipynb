{
 "cells": [
  {
   "cell_type": "markdown",
   "metadata": {},
   "source": [
    "# Future Value\n",
    "\n",
    "`FV = PV(1+r)^t`"
   ]
  },
  {
   "cell_type": "code",
   "execution_count": 1,
   "metadata": {},
   "outputs": [
    {
     "data": {
      "text/plain": [
       "734.6640384000003"
      ]
     },
     "execution_count": 1,
     "metadata": {},
     "output_type": "execute_result"
    }
   ],
   "source": [
    "# 1\n",
    "PV = 500\n",
    "r = 0.08\n",
    "t = 5\n",
    "\n",
    "FV = PV*((1+r)**t)\n",
    "FV # = 734.66"
   ]
  },
  {
   "cell_type": "code",
   "execution_count": 2,
   "metadata": {},
   "outputs": [
    {
     "data": {
      "text/plain": [
       "0.05629519164543795"
      ]
     },
     "execution_count": 2,
     "metadata": {},
     "output_type": "execute_result"
    }
   ],
   "source": [
    "# 2\n",
    "PV = 700\n",
    "FV = 825\n",
    "t = 3\n",
    "\n",
    "r = ((FV / PV) ** (1 / t)) - 1\n",
    "r # 56.29 %"
   ]
  },
  {
   "cell_type": "markdown",
   "metadata": {},
   "source": [
    "# Effective vs Nominal Rates\n",
    "\n",
    "`Reff = (1+(Rnom/n))^n`"
   ]
  },
  {
   "cell_type": "code",
   "execution_count": 7,
   "metadata": {},
   "outputs": [
    {
     "data": {
      "text/plain": [
       "0.5"
      ]
     },
     "execution_count": 7,
     "metadata": {},
     "output_type": "execute_result"
    }
   ],
   "source": [
    "# Nominal rate\n",
    "# 6% per year = 0.5% per month\n",
    "6/12"
   ]
  },
  {
   "cell_type": "code",
   "execution_count": 16,
   "metadata": {},
   "outputs": [
    {
     "data": {
      "text/plain": [
       "129.746337890625"
      ]
     },
     "execution_count": 16,
     "metadata": {},
     "output_type": "execute_result"
    }
   ],
   "source": [
    "# Effective rate\n",
    "# 0.5% per month = 6.17% per year\n",
    "((1+0.5/100))**12"
   ]
  },
  {
   "cell_type": "markdown",
   "metadata": {},
   "source": [
    "# Present Value\n",
    "\n",
    "`PV = FV/(1+r)^t`"
   ]
  },
  {
   "cell_type": "code",
   "execution_count": 9,
   "metadata": {},
   "outputs": [
    {
     "data": {
      "text/plain": [
       "143.83724368288654"
      ]
     },
     "execution_count": 9,
     "metadata": {},
     "output_type": "execute_result"
    }
   ],
   "source": [
    "FV = 175\n",
    "r = 0.04\n",
    "t = 5\n",
    "\n",
    "PV = FV/(1+r)**t\n",
    "PV # 143.8"
   ]
  },
  {
   "cell_type": "markdown",
   "metadata": {},
   "source": [
    "# DCF: Simple Bond"
   ]
  },
  {
   "cell_type": "code",
   "execution_count": 13,
   "metadata": {},
   "outputs": [
    {
     "data": {
      "text/plain": [
       "3164.007897437903"
      ]
     },
     "execution_count": 13,
     "metadata": {},
     "output_type": "execute_result"
    }
   ],
   "source": [
    "# simple bond of 3,000 with annual payment of 250 for 5 years, discount rate 7%\n",
    "bond = 3000\n",
    "payment = 250\n",
    "r = 0.07\n",
    "\n",
    "# from PV = FV/(1+r)^t\n",
    "year1 = payment / ((1 + r)**(1))  # 233.6\n",
    "year2 = payment / ((1 + r)**(2))  # 218.4\n",
    "year3 = payment / ((1 + r)**(3))  # 204.1\n",
    "year4 = payment / ((1 + r)**(4))  # 190.7\n",
    "year5 = (bond + payment) / ((1 + r)**(5))  # 2,317.2\n",
    "\n",
    "bond_worth = year1 + year2 + year3 + year4 + year5\n",
    "bond_worth  # 3,164 = total payment worth"
   ]
  },
  {
   "cell_type": "code",
   "execution_count": 17,
   "metadata": {},
   "outputs": [
    {
     "data": {
      "text/plain": [
       "4437.6847525"
      ]
     },
     "execution_count": 17,
     "metadata": {},
     "output_type": "execute_result"
    }
   ],
   "source": [
    "# FV after 5 years?\n",
    "\n",
    "FV_of_year1 = year1 * ((1 + r)**(5))\n",
    "FV_of_year2 = year2 * ((1 + r)**(5))\n",
    "FV_of_year3 = year3 * ((1 + r)**(5))\n",
    "FV_of_year4 = year4 * ((1 + r)**(5))\n",
    "FV_of_year5 = year5 * ((1 + r)**(5))\n",
    "\n",
    "# total worth after 5 years\n",
    "FV_in_5_years = FV_of_year1 + FV_of_year2 + FV_of_year3 + FV_of_year4 + FV_of_year5\n",
    "FV_in_5_years  # 4437.68"
   ]
  },
  {
   "cell_type": "markdown",
   "metadata": {},
   "source": [
    "# DCF: Practical Example"
   ]
  },
  {
   "cell_type": "code",
   "execution_count": 44,
   "metadata": {},
   "outputs": [],
   "source": [
    "# A water well in the desert\n",
    "water = float('inf')\n",
    "produce = 1     # gallon/day\n",
    "net = 1.50      # $/day (cash flow)\n",
    "r = 0.15        # discount rate\n",
    "\n",
    "# TODO: How much is it worth to sell or acquire?"
   ]
  },
  {
   "cell_type": "code",
   "execution_count": 58,
   "metadata": {},
   "outputs": [
    {
     "data": {
      "text/plain": [
       "(9.999999999999996, 1.208029028476199e-22)"
      ]
     },
     "execution_count": 58,
     "metadata": {},
     "output_type": "execute_result"
    }
   ],
   "source": [
    "# my calculate -> wrong นี้มันโง่\n",
    "def get_PV(FV, r, t):\n",
    "    return FV / ((1 + r)**(t))\n",
    "\n",
    "sum = 0\n",
    "for i in range(1, 365):\n",
    "    PV = get_PV(net, r, i)\n",
    "    sum += PV\n",
    "    # print(sum, PV)\n",
    "\n",
    "sum, PV"
   ]
  },
  {
   "cell_type": "code",
   "execution_count": 59,
   "metadata": {},
   "outputs": [
    {
     "data": {
      "text/plain": [
       "3383.4213575498297"
      ]
     },
     "execution_count": 59,
     "metadata": {},
     "output_type": "execute_result"
    }
   ],
   "source": [
    "# the correct answer (excell)\n",
    "t = 365  # days\n",
    "eff_r = (1 + r / t)**(t) - 1  # 0.162\n",
    "\n",
    "FV = net * t  # 547.5\n",
    "# PV = FV / ((1 + r)**t)\n",
    "year1 = FV / ((1 + eff_r)**1)  # 471.25\n",
    "year2 = FV / ((1 + eff_r)**2)  # 405.62\n",
    "# ...\n",
    "\n",
    "# note\n",
    "sum = 0\n",
    "for i in range(1, 61):\n",
    "    PV = get_PV(FV, eff_r, i)\n",
    "    sum += PV\n",
    "    # print(PV)\n",
    "\n",
    "sum # 3383.42 -> A water well worth"
   ]
  },
  {
   "cell_type": "markdown",
   "metadata": {},
   "source": [
    "# Comps: P/E ratios"
   ]
  },
  {
   "cell_type": "code",
   "execution_count": 70,
   "metadata": {},
   "outputs": [
    {
     "data": {
      "text/plain": [
       "170.0"
      ]
     },
     "execution_count": 70,
     "metadata": {},
     "output_type": "execute_result"
    }
   ],
   "source": [
    "# Home Depot\n",
    "E = 6.8 # $ per share\n",
    "P_E = 25\n",
    "P_Home_Depot = P_E*6.8\n",
    "P_Home_Depot # $170 per share"
   ]
  },
  {
   "cell_type": "code",
   "execution_count": 71,
   "metadata": {},
   "outputs": [
    {
     "data": {
      "text/plain": [
       "61.5"
      ]
     },
     "execution_count": 71,
     "metadata": {},
     "output_type": "execute_result"
    }
   ],
   "source": [
    "# Lowes\n",
    "E = 2.46 # $ per share\n",
    "P_Lowes = P_E*2.46 \n",
    "P_Lowes # $61.5 per share"
   ]
  },
  {
   "cell_type": "markdown",
   "metadata": {},
   "source": [
    "# DCF: Treasury Bond Example"
   ]
  },
  {
   "cell_type": "code",
   "execution_count": 4,
   "metadata": {},
   "outputs": [
    {
     "name": "stdout",
     "output_type": "stream",
     "text": [
      "1 166.66666666666669\n",
      "2 138.88888888888889\n",
      "3 115.74074074074076\n",
      "4 96.45061728395062\n",
      "5 80.3755144032922\n",
      "6 401.877572016461\n"
     ]
    },
    {
     "data": {
      "text/plain": [
       "1000.0"
      ]
     },
     "execution_count": 4,
     "metadata": {},
     "output_type": "execute_result"
    }
   ],
   "source": [
    "# Treasury issues 3 year bonds with a 2.5% coupon rate.\n",
    "# If the six month interest rate is 1.25%, what is the price of the bond per $1000 of face value?\n",
    "face_value = 1000 # USD\n",
    "discount_rate = 1.25 / 100      # 1.25% per 6 months\n",
    "# discount_rate = 20 / 100      # eventhough discount_rate change, DCF remain the same\n",
    "\n",
    "cash_flow = face_value * discount_rate          # 12.5\n",
    "cash_flow_on_month_6 = cash_flow + face_value   # 1012.5\n",
    "\n",
    "DCF = 0\n",
    "for i in range(1, 6):\n",
    "    # PV = FV / ((1 + r)**t)\n",
    "    PV = cash_flow / ((1 + discount_rate)**i)\n",
    "    DCF += PV\n",
    "    print(i, PV)\n",
    "\n",
    "# month 6\n",
    "PV = cash_flow_on_month_6 / ((1 + discount_rate)**6)\n",
    "DCF += PV\n",
    "print(6, PV)\n",
    "\n",
    "DCF"
   ]
  },
  {
   "cell_type": "markdown",
   "metadata": {},
   "source": [
    "# DCF: Mortgage Example"
   ]
  },
  {
   "cell_type": "code",
   "execution_count": 12,
   "metadata": {},
   "outputs": [],
   "source": [
    "# Assume a bank charges 7% interest per year. \n",
    "# You borrow $10,000 to be repaid in equal yearly installments of $3,810.52 over 3 years. \n",
    "# Let’s amortize the loan schedule and compute interest and principle repayments.\n",
    "borrow = 10000 # USD\n",
    "discount_rate = 7.00 / 100 # 7% per year\n",
    "payment = 3810.52\n",
    "\n",
    "DCF = 0\n",
    "\n",
    "balance = borrow\n",
    "# year1\n",
    "interest = balance * discount_rate      # 700\n",
    "principle_payment = payment - interest  # 3110.52\n",
    "balance -= principle_payment            # 6889.48\n",
    "# year2\n",
    "interest = balance * discount_rate      # 482.2636\n",
    "principle_payment = payment - interest  # 3328.2564\n",
    "balance -= principle_payment            # 3561.2236\n",
    "# year3\n",
    "interest = balance * discount_rate      # 249.2857\n",
    "principle_payment = payment - interest  # 3561.2343\n",
    "balance -= principle_payment            # -0.01075"
   ]
  },
  {
   "cell_type": "markdown",
   "metadata": {},
   "source": [
    "# DCF: Retirement Annuity Example"
   ]
  },
  {
   "cell_type": "code",
   "execution_count": 11,
   "metadata": {},
   "outputs": [
    {
     "name": "stdout",
     "output_type": "stream",
     "text": [
      "1 2491.842356546406\n",
      "2 2483.711331951498\n",
      "3 2475.606839356413\n",
      "4 2467.5287921857134\n",
      "5 2459.477104146462\n",
      "6 2451.4516892272995\n",
      "7 2443.4524616975286\n",
      "8 2435.4793361061943\n",
      "9 2427.532227281174\n",
      "10 2419.611050328266\n",
      "11 2411.7157206302845\n",
      "12 2403.8461538461524\n",
      "13 2396.002265910004\n",
      "14 2388.183973030285\n",
      "15 2380.3911916888574\n",
      "16 2372.6238386401074\n",
      "17 2364.881830910058\n",
      "18 2357.165085795479\n",
      "19 2349.473520863007\n",
      "20 2341.8070539482624\n",
      "21 2334.1656031549737\n",
      "22 2326.5490868541006\n",
      "23 2318.9574236829644\n",
      "24 2311.390532544376\n",
      "25 2303.8483326057717\n",
      "26 2296.3307432983497\n",
      "27 2288.8376843162077\n",
      "28 2281.3690756154865\n",
      "29 2273.924837413516\n",
      "30 2266.504890187959\n",
      "31 2259.109154675967\n",
      "32 2251.737551873328\n",
      "33 2244.390003033627\n",
      "34 2237.0664296674036\n",
      "35 2229.7667535413107\n",
      "36 2222.490896677283\n",
      "37 2215.2387813517025\n",
      "38 2208.0103300945657\n",
      "39 2200.8054656886598\n",
      "40 2193.624111168736\n",
      "41 2186.4661898206873\n",
      "42 2179.3316251807287\n",
      "43 2172.2203410345824\n",
      "44 2165.13226141666\n",
      "45 2158.0673106092554\n",
      "46 2151.0254131417328\n",
      "47 2144.0064937897205\n",
      "48 2137.0104775743093\n",
      "49 2130.037289761251\n",
      "50 2123.0868558601583\n",
      "51 2116.1591016237103\n",
      "52 2109.2539530468603\n",
      "53 2102.371336366044\n",
      "54 2095.5111780583916\n",
      "55 2088.673404840943\n",
      "56 2081.857943669864\n",
      "57 2075.064721739667\n",
      "58 2068.2936664824338\n",
      "59 2061.5447055670375\n",
      "60 2054.817766898373\n",
      "61 2048.112778616586\n",
      "62 2041.4296690963045\n",
      "63 2034.7683669458738\n",
      "64 2028.1288010065953\n",
      "65 2021.5109003519642\n",
      "66 2014.9145942869138\n",
      "67 2008.3398123470595\n",
      "68 2001.7864842979452\n",
      "69 1995.2545401342945\n",
      "70 1988.7439100792622\n",
      "71 1982.2545245836889\n",
      "72 1975.7863143253576\n",
      "73 1969.3392102082548\n",
      "74 1962.9131433618302\n",
      "75 1956.5080451402623\n",
      "76 1950.1238471217248\n",
      "77 1943.7604811076567\n",
      "78 1937.4178791220315\n",
      "79 1931.095973410633\n",
      "80 1924.7946964403307\n",
      "81 1918.513980898359\n",
      "82 1912.2537596915972\n",
      "83 1906.0139659458534\n",
      "84 1899.7945330051505\n",
      "85 1893.595394431013\n",
      "86 1887.4164840017584\n",
      "87 1881.2577357117893\n",
      "88 1875.1190837708882\n",
      "89 1869.0004626035147\n",
      "90 1862.901806848106\n",
      "91 1856.8230513563767\n",
      "92 1850.7641311926245\n",
      "93 1844.7249816330364\n",
      "94 1838.7055381649961\n",
      "95 1832.7057364863963\n",
      "96 1826.7255125049512\n",
      "97 1820.7648023375114\n",
      "98 1814.8235423093822\n",
      "99 1808.9016689536425\n",
      "100 1802.9991190104681\n",
      "101 1797.1158294264555\n",
      "102 1791.2517373539472\n",
      "103 1785.406780150361\n",
      "104 1779.5808953775224\n",
      "105 1773.7740208009955\n",
      "106 1767.9860943894182\n",
      "107 1762.2170543138416\n",
      "108 1756.4668389470676\n",
      "109 1750.7353868629907\n",
      "110 1745.022636835943\n",
      "111 1739.32852784004\n",
      "112 1733.652999048526\n",
      "113 1727.9959898331292\n",
      "114 1722.3574397634095\n",
      "115 1716.7372886061155\n",
      "116 1711.13547632454\n",
      "117 1705.551943077879\n",
      "118 1699.9866292205934\n",
      "119 1694.4394753017698\n",
      "120 1688.910422064487\n",
      "121 1683.3994104451822\n",
      "122 1677.9063815730215\n",
      "123 1672.431276769268\n",
      "124 1666.9740375466588\n",
      "125 1661.5346056087772\n",
      "126 1656.1129228494312\n",
      "127 1650.708931352033\n",
      "128 1645.3225733889797\n",
      "129 1639.9537914210366\n",
      "130 1634.6025280967233\n",
      "131 1629.2687262517006\n",
      "132 1623.9523289081594\n",
      "133 1618.6532792742128\n",
      "134 1613.3715207432888\n",
      "135 1608.106996893526\n",
      "136 1602.8596514871708\n",
      "137 1597.629428469977\n",
      "138 1592.416271970606\n",
      "139 1587.2201263000309\n",
      "140 1582.040935950941\n",
      "141 1576.8786455971497\n",
      "142 1571.7332000930023\n",
      "143 1566.6045444727883\n",
      "144 1561.4926239501524\n",
      "145 1556.3973839175112\n",
      "146 1551.318769945469\n",
      "147 1546.2567277822357\n",
      "148 1541.211203353048\n",
      "149 1536.1821427595924\n",
      "150 1531.169492279428\n",
      "151 1526.1731983654133\n",
      "152 1521.1932076451346\n",
      "153 1516.2294669203352\n",
      "154 1511.2819231663475\n",
      "155 1506.3505235315263\n",
      "156 1501.4352153366842\n",
      "157 1496.5359460745292\n",
      "158 1491.6526634091038\n",
      "159 1486.7853151752256\n",
      "160 1481.9338493779298\n",
      "161 1477.0982141919148\n",
      "162 1472.2783579609875\n",
      "163 1467.474229197512\n",
      "164 1462.6857765818593\n",
      "165 1457.91294896186\n",
      "166 1453.1556953522563\n",
      "167 1448.413964934159\n",
      "168 1443.687707054503\n",
      "169 1438.9768712255081\n",
      "170 1434.2814071241373\n",
      "171 1429.601264591562\n",
      "172 1424.936393632624\n",
      "173 1420.2867444153019\n",
      "174 1415.6522672701794\n",
      "175 1411.0329126899144\n",
      "176 1406.42863132871\n",
      "177 1401.8393740017875\n",
      "178 1397.265091684861\n",
      "179 1392.7057355136135\n",
      "180 1388.1612567831753\n",
      "181 1383.6316069476031\n",
      "182 1379.1167376193623\n",
      "183 1374.616600568809\n",
      "184 1370.1311477236761\n",
      "185 1365.6603311685587\n",
      "186 1361.2041031444023\n",
      "187 1356.7624160479938\n",
      "188 1352.335222431451\n",
      "189 1347.922475001718\n",
      "190 1343.5241266200578\n",
      "191 1339.1401303015507\n",
      "192 1334.7704392145909\n",
      "193 1330.4150066803866\n",
      "194 1326.0737861724629\n",
      "195 1321.7467313161617\n",
      "196 1317.4337958881492\n",
      "197 1313.134933815921\n",
      "198 1308.8500991773092\n",
      "199 1304.5792461999933\n",
      "200 1300.32232926101\n",
      "201 1296.0793028862665\n",
      "202 1291.850121750055\n",
      "203 1287.6347406745672\n",
      "204 1283.4331146294135\n",
      "205 1279.2451987311404\n",
      "206 1275.070948242752\n",
      "207 1270.9103185732317\n",
      "208 1266.7632652770658\n",
      "209 1262.6297440537694\n",
      "210 1258.5097107474119\n",
      "211 1254.4031213461467\n",
      "212 1250.3099319817395\n",
      "213 1246.2300989291018\n",
      "214 1242.1635786058212\n",
      "215 1238.1103275716985\n",
      "216 1234.0703025282812\n",
      "217 1230.0434603184035\n",
      "218 1226.0297579257224\n",
      "219 1222.0291524742606\n",
      "220 1218.0416012279475\n",
      "221 1214.0670615901622\n",
      "222 1210.10549110328\n",
      "223 1206.1568474482171\n",
      "224 1202.2210884439796\n",
      "225 1198.2981720472126\n",
      "226 1194.3880563517505\n",
      "227 1190.4906995881709\n",
      "228 1186.6060601233469\n",
      "229 1182.7340964600025\n",
      "230 1178.8747672362706\n",
      "231 1175.0280312252498\n",
      "232 1171.193847334564\n",
      "233 1167.3721746059243\n",
      "234 1163.5629722146916\n",
      "235 1159.7661994694388\n",
      "236 1155.9818158115183\n",
      "237 1152.2097808146266\n",
      "238 1148.450054184375\n",
      "239 1144.702595757856\n",
      "240 1140.9673655032175\n"
     ]
    },
    {
     "data": {
      "text/plain": [
       "415131.5391304386"
      ]
     },
     "execution_count": 11,
     "metadata": {},
     "output_type": "execute_result"
    }
   ],
   "source": [
    "# You want to retire and maintain a monthly income of $2,500 for the next 20 years.\n",
    "# How much would it cost to purchase this annuity if discount rates are currently 4%?\n",
    "constant_income = 2500\n",
    "discount_rate = 0.04                                            # 4% per year\n",
    "discount_rate_per_month = ((1 + discount_rate) ** (1/12)) - 1   # 0.3274% per month\n",
    "\n",
    "DCF = 0\n",
    "\n",
    "n = 20 * 12\n",
    "for i in range(1, n+1):\n",
    "    PV = constant_income / ((1 + discount_rate_per_month)**i)\n",
    "    DCF += PV\n",
    "    # print(i, PV)\n",
    "    \n",
    "DCF"
   ]
  },
  {
   "cell_type": "markdown",
   "metadata": {},
   "source": [
    "# NPV: Payback Period"
   ]
  },
  {
   "cell_type": "code",
   "execution_count": null,
   "metadata": {},
   "outputs": [
    {
     "name": "stdout",
     "output_type": "stream",
     "text": [
      "1 476.19047619047615\n",
      "2 453.51473922902494\n",
      "3 431.918799265738\n"
     ]
    },
    {
     "data": {
      "text/plain": [
       "361.6240146852391"
      ]
     },
     "metadata": {},
     "output_type": "display_data"
    }
   ],
   "source": [
    "# What is the NPV of a project that requires an initial outlay of $1,000\n",
    "# and provides an annual income of $500 for 3 years?\n",
    "# Assume a discount rate of 5%, and each annual income is paid at the end of each year\n",
    "constant_income = 500   # 500 USD per year\n",
    "discount_rate = 0.05    # 5% per year\n",
    "\n",
    "NPV = 0\n",
    "\n",
    "# start\n",
    "cash_flow = -1000\n",
    "PV = cash_flow\n",
    "NPV += PV\n",
    "\n",
    "cash_flow = 500\n",
    "\n",
    "for i in range(1, 4):\n",
    "    PV = cash_flow / (1 + discount_rate)**i\n",
    "    NPV += PV\n",
    "    print(i, PV)\n",
    "\n",
    "NPV  # 361.62\n",
    "# NPV > 0 --> should invest"
   ]
  },
  {
   "cell_type": "markdown",
   "metadata": {},
   "source": [
    "# NPV and IRR with Google Sheet\n",
    "\n",
    "|     |  A   |     B     |    C     |       D       |  E  |\n",
    "| :-: | :--: | :-------: | :------: | :-----------: | :-: |\n",
    "|  1  | Time | Cash Flow |    PV    | Interest rate | 10% |\n",
    "|  2  |  0   |   -9364   |  -9364   |               |     |\n",
    "|  3  |  1   |   10000   | 9090.909 |               |     |\n",
    "|  4  |  2   |   1000    | 826.446  |               |     |\n",
    "\n",
    "`note.` col C = B/(1+10%)\\*\\*A\n",
    "\n",
    "- NPV manual calc = sum(C2:C4) = 553.3443\n",
    "- NPV = npv(E1, B2:B4) + B3 = 553.3553\n",
    "- IRR = irr(B2:B4) = 15.9983"
   ]
  }
 ],
 "metadata": {
  "interpreter": {
   "hash": "082e9a3bcad0a290d0001e938aa60b99250c6c2ef33a923c00b70f9826caf4b7"
  },
  "kernelspec": {
   "display_name": "Python 3.8.3 64-bit",
   "language": "python",
   "name": "python3"
  },
  "language_info": {
   "codemirror_mode": {
    "name": "ipython",
    "version": 3
   },
   "file_extension": ".py",
   "mimetype": "text/x-python",
   "name": "python",
   "nbconvert_exporter": "python",
   "pygments_lexer": "ipython3",
   "version": "3.8.3"
  },
  "orig_nbformat": 4
 },
 "nbformat": 4,
 "nbformat_minor": 2
}
